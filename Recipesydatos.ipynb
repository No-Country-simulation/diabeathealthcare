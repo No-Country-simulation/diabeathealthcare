{
  "nbformat": 4,
  "nbformat_minor": 0,
  "metadata": {
    "colab": {
      "provenance": []
    },
    "kernelspec": {
      "name": "python3",
      "display_name": "Python 3"
    },
    "language_info": {
      "name": "python"
    }
  },
  "cells": [
    {
      "cell_type": "code",
      "execution_count": 1,
      "metadata": {
        "colab": {
          "base_uri": "https://localhost:8080/"
        },
        "id": "Vc6t_Sg5fknO",
        "outputId": "2d96e81f-ab2d-4888-9c1e-d5c97349f3fd"
      },
      "outputs": [
        {
          "output_type": "stream",
          "name": "stderr",
          "text": [
            "<ipython-input-1-e91a6f2c24ce>:5: DtypeWarning: Columns (1) have mixed types. Specify dtype option on import or set low_memory=False.\n",
            "  food_nutrition_df = pd.read_csv('dataSet2(df_foodStruct_encoded).csv')\n"
          ]
        }
      ],
      "source": [
        "import pandas as pd\n",
        "\n",
        "# Leer los archivos CSV\n",
        "recipes_df = pd.read_csv('recipes.csv')\n",
        "food_nutrition_df = pd.read_csv('dataSet2(df_foodStruct_encoded).csv')\n",
        "\n",
        "# Unir ambos DataFrames en base al nombre del alimento\n",
        "merged_df = recipes_df.merge(food_nutrition_df, left_on='food', right_on='food_name', how='inner')\n",
        "\n",
        "# Guardar el resultado en un nuevo archivo CSV\n",
        "merged_df.to_csv('merged_recipes_nutrition.csv', index=False)"
      ]
    },
    {
      "cell_type": "markdown",
      "source": [
        "Se combinan los dataset de recetas y datos de ingredientes para que la base contenga mas datos si se requiere ajustar dietas"
      ],
      "metadata": {
        "id": "rHNyF0eiiuRC"
      }
    }
  ]
}